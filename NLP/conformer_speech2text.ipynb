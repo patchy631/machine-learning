{
 "cells": [
  {
   "cell_type": "markdown",
   "metadata": {},
   "source": [
    "### 🗣 Speech to Text! 🚀  "
   ]
  },
  {
   "cell_type": "code",
   "execution_count": null,
   "metadata": {},
   "outputs": [],
   "source": [
    "import assemblyai as aai\n",
    "\n",
    "# Replace with your API key\n",
    "aai.settings.api_key = \"your_api_key\"\n",
    "\n",
    "# URL of the file to transcribe\n",
    "FILE_URL = \"tinyurl.com/QuantumTheoryMP3\"\n",
    "\n",
    "# You can also transcribe a local file by passing in a file path\n",
    "# FILE_URL = './path/to/file.mp3'\n",
    "\n",
    "transcriber = aai.Transcriber()\n",
    "transcript = transcriber.transcribe(FILE_URL)\n",
    "\n",
    "if transcript.status == aai.TranscriptStatus.error:\n",
    "    print(transcript.error)\n",
    "else:\n",
    "    print(transcript.text)"
   ]
  }
 ],
 "metadata": {
  "kernelspec": {
   "display_name": "env_twitter",
   "language": "python",
   "name": "env_twitter"
  },
  "language_info": {
   "codemirror_mode": {
    "name": "ipython",
    "version": 3
   },
   "file_extension": ".py",
   "mimetype": "text/x-python",
   "name": "python",
   "nbconvert_exporter": "python",
   "pygments_lexer": "ipython3",
   "version": "3.10.6"
  }
 },
 "nbformat": 4,
 "nbformat_minor": 4
}
